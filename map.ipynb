{
 "cells": [
  {
   "cell_type": "code",
   "execution_count": 12,
   "metadata": {},
   "outputs": [],
   "source": [
    "import geopandas as gpd\n",
    "import pandas as pd\n",
    "import matplotlib.pyplot as plt "
   ]
  },
  {
   "cell_type": "code",
   "execution_count": 45,
   "metadata": {},
   "outputs": [],
   "source": [
    "# Import in fly data. If you have a .csv or .txt you can substitude\n",
    "# NOTE: You should rename 'lat', 'lon' in your data or rename it in this notebook.\n",
    "# fly_df = pd.read_csv(<path_to_data.csv>)\n",
    "fly_df = pd.DataFrame({'fly_id':[1,2], 'lat': [45,75], 'lon':[-110,-100]})"
   ]
  },
  {
   "cell_type": "code",
   "execution_count": 17,
   "metadata": {},
   "outputs": [],
   "source": [
    "# Read in climate classification\n",
    "climate_gdf = gpd.read_file('data/c1976_2000_0/c1976_2000.shp')"
   ]
  },
  {
   "cell_type": "code",
   "execution_count": 61,
   "metadata": {},
   "outputs": [],
   "source": [
    "# Read in csv to translate codes to climate types\n",
    "climate_translate = pd.read_csv('data/translation.csv')\n"
   ]
  },
  {
   "cell_type": "code",
   "execution_count": 29,
   "metadata": {},
   "outputs": [
    {
     "data": {
      "text/html": [
       "<div>\n",
       "<style scoped>\n",
       "    .dataframe tbody tr th:only-of-type {\n",
       "        vertical-align: middle;\n",
       "    }\n",
       "\n",
       "    .dataframe tbody tr th {\n",
       "        vertical-align: top;\n",
       "    }\n",
       "\n",
       "    .dataframe thead th {\n",
       "        text-align: right;\n",
       "    }\n",
       "</style>\n",
       "<table border=\"1\" class=\"dataframe\">\n",
       "  <thead>\n",
       "    <tr style=\"text-align: right;\">\n",
       "      <th></th>\n",
       "      <th>ID</th>\n",
       "      <th>GRIDCODE</th>\n",
       "      <th>geometry</th>\n",
       "      <th>classification</th>\n",
       "    </tr>\n",
       "  </thead>\n",
       "  <tbody>\n",
       "    <tr>\n",
       "      <th>0</th>\n",
       "      <td>1</td>\n",
       "      <td>62</td>\n",
       "      <td>POLYGON ((-37.50000 83.50000, -38.00000 83.500...</td>\n",
       "      <td>ET</td>\n",
       "    </tr>\n",
       "    <tr>\n",
       "      <th>1</th>\n",
       "      <td>2</td>\n",
       "      <td>62</td>\n",
       "      <td>POLYGON ((-29.50000 83.50000, -37.00000 83.500...</td>\n",
       "      <td>ET</td>\n",
       "    </tr>\n",
       "    <tr>\n",
       "      <th>2</th>\n",
       "      <td>3</td>\n",
       "      <td>62</td>\n",
       "      <td>POLYGON ((-46.00000 83.00000, -46.00000 83.500...</td>\n",
       "      <td>ET</td>\n",
       "    </tr>\n",
       "    <tr>\n",
       "      <th>3</th>\n",
       "      <td>4</td>\n",
       "      <td>62</td>\n",
       "      <td>POLYGON ((-42.50000 83.50000, -39.50000 83.500...</td>\n",
       "      <td>ET</td>\n",
       "    </tr>\n",
       "    <tr>\n",
       "      <th>4</th>\n",
       "      <td>5</td>\n",
       "      <td>61</td>\n",
       "      <td>POLYGON ((55.50000 81.00000, 55.50000 81.50000...</td>\n",
       "      <td>EF</td>\n",
       "    </tr>\n",
       "    <tr>\n",
       "      <th>...</th>\n",
       "      <td>...</td>\n",
       "      <td>...</td>\n",
       "      <td>...</td>\n",
       "      <td>...</td>\n",
       "    </tr>\n",
       "    <tr>\n",
       "      <th>2254</th>\n",
       "      <td>2255</td>\n",
       "      <td>61</td>\n",
       "      <td>POLYGON ((-59.50000 -73.00000, -59.00000 -73.0...</td>\n",
       "      <td>EF</td>\n",
       "    </tr>\n",
       "    <tr>\n",
       "      <th>2255</th>\n",
       "      <td>2256</td>\n",
       "      <td>61</td>\n",
       "      <td>POLYGON ((168.50000 -76.50000, 168.00000 -76.5...</td>\n",
       "      <td>EF</td>\n",
       "    </tr>\n",
       "    <tr>\n",
       "      <th>2256</th>\n",
       "      <td>2257</td>\n",
       "      <td>61</td>\n",
       "      <td>POLYGON ((-66.00000 -77.00000, -66.50000 -77.0...</td>\n",
       "      <td>EF</td>\n",
       "    </tr>\n",
       "    <tr>\n",
       "      <th>2257</th>\n",
       "      <td>2258</td>\n",
       "      <td>61</td>\n",
       "      <td>POLYGON ((-159.00000 -80.00000, -164.00000 -80...</td>\n",
       "      <td>EF</td>\n",
       "    </tr>\n",
       "    <tr>\n",
       "      <th>2258</th>\n",
       "      <td>2259</td>\n",
       "      <td>61</td>\n",
       "      <td>POLYGON ((-127.00000 -74.00000, -127.00000 -74...</td>\n",
       "      <td>EF</td>\n",
       "    </tr>\n",
       "  </tbody>\n",
       "</table>\n",
       "<p>2259 rows × 4 columns</p>\n",
       "</div>"
      ],
      "text/plain": [
       "        ID  GRIDCODE                                           geometry   \n",
       "0        1        62  POLYGON ((-37.50000 83.50000, -38.00000 83.500...  \\\n",
       "1        2        62  POLYGON ((-29.50000 83.50000, -37.00000 83.500...   \n",
       "2        3        62  POLYGON ((-46.00000 83.00000, -46.00000 83.500...   \n",
       "3        4        62  POLYGON ((-42.50000 83.50000, -39.50000 83.500...   \n",
       "4        5        61  POLYGON ((55.50000 81.00000, 55.50000 81.50000...   \n",
       "...    ...       ...                                                ...   \n",
       "2254  2255        61  POLYGON ((-59.50000 -73.00000, -59.00000 -73.0...   \n",
       "2255  2256        61  POLYGON ((168.50000 -76.50000, 168.00000 -76.5...   \n",
       "2256  2257        61  POLYGON ((-66.00000 -77.00000, -66.50000 -77.0...   \n",
       "2257  2258        61  POLYGON ((-159.00000 -80.00000, -164.00000 -80...   \n",
       "2258  2259        61  POLYGON ((-127.00000 -74.00000, -127.00000 -74...   \n",
       "\n",
       "     classification  \n",
       "0                ET  \n",
       "1                ET  \n",
       "2                ET  \n",
       "3                ET  \n",
       "4                EF  \n",
       "...             ...  \n",
       "2254             EF  \n",
       "2255             EF  \n",
       "2256             EF  \n",
       "2257             EF  \n",
       "2258             EF  \n",
       "\n",
       "[2259 rows x 4 columns]"
      ]
     },
     "execution_count": 29,
     "metadata": {},
     "output_type": "execute_result"
    }
   ],
   "source": [
    "# Combine geodataframe of climate classifcation with climate translation coddes\n",
    "climate_gdf = climate_gdf.merge(climate_translate, on ='GRIDCODE',how='left')"
   ]
  },
  {
   "cell_type": "code",
   "execution_count": 46,
   "metadata": {},
   "outputs": [],
   "source": [
    "# Convert latitude and longitude points to geodataframe\n",
    "# Note: this assumes your latitude is named 'lat' etc.\n",
    "fly_gdf = gpd.GeoDataFrame(\n",
    "    fly_df, geometry=gpd.points_from_xy(fly_df.lon, fly_df.lat), crs=\"EPSG:4004\"\n",
    ")"
   ]
  },
  {
   "cell_type": "code",
   "execution_count": 63,
   "metadata": {},
   "outputs": [
    {
     "data": {
      "image/png": "[encoded data removed]",
      "text/plain": [
       "<Figure size 640x480 with 1 Axes>"
      ]
     },
     "metadata": {},
     "output_type": "display_data"
    }
   ],
   "source": [
    "\n",
    "ax = climate_gdf.plot(column='GRIDCODE')\n",
    "\n",
    "fly_gdf.plot(ax=ax, color=\"red\")\n",
    "\n",
    "plt.show()\n",
    "\n"
   ]
  },
  {
   "cell_type": "code",
   "execution_count": 52,
   "metadata": {},
   "outputs": [],
   "source": [
    "# Preforms a spatial join to extract points of fly locations to each climate zone\n",
    "join_df = climate_gdf.sjoin(fly_gdf, how=\"left\")\n",
    "join_df = join_df[~join_df['fly_id'].isnull()]\n"
   ]
  },
  {
   "cell_type": "code",
   "execution_count": 53,
   "metadata": {},
   "outputs": [
    {
     "data": {
      "text/html": [
       "<div>\n",
       "<style scoped>\n",
       "    .dataframe tbody tr th:only-of-type {\n",
       "        vertical-align: middle;\n",
       "    }\n",
       "\n",
       "    .dataframe tbody tr th {\n",
       "        vertical-align: top;\n",
       "    }\n",
       "\n",
       "    .dataframe thead th {\n",
       "        text-align: right;\n",
       "    }\n",
       "</style>\n",
       "<table border=\"1\" class=\"dataframe\">\n",
       "  <thead>\n",
       "    <tr style=\"text-align: right;\">\n",
       "      <th></th>\n",
       "      <th>fly_id</th>\n",
       "      <th>GRIDCODE</th>\n",
       "    </tr>\n",
       "  </thead>\n",
       "  <tbody>\n",
       "    <tr>\n",
       "      <th>34</th>\n",
       "      <td>2.0</td>\n",
       "      <td>62</td>\n",
       "    </tr>\n",
       "    <tr>\n",
       "      <th>684</th>\n",
       "      <td>1.0</td>\n",
       "      <td>43</td>\n",
       "    </tr>\n",
       "  </tbody>\n",
       "</table>\n",
       "</div>"
      ],
      "text/plain": [
       "     fly_id  GRIDCODE\n",
       "34      2.0        62\n",
       "684     1.0        43"
      ]
     },
     "execution_count": 53,
     "metadata": {},
     "output_type": "execute_result"
    }
   ],
   "source": [
    "join_df[['fly_id','GRIDCODE']]"
   ]
  },
  {
   "cell_type": "code",
   "execution_count": null,
   "metadata": {},
   "outputs": [],
   "source": [
    "# You can save this with .to_csv\n",
    "# join_df.to_csv(<output_file_name.csv>)"
   ]
  }
 ],
 "metadata": {
  "kernelspec": {
   "display_name": "forests-offsets-fire",
   "language": "python",
   "name": "python3"
  },
  "language_info": {
   "codemirror_mode": {
    "name": "ipython",
    "version": 3
   },
   "file_extension": ".py",
   "mimetype": "text/x-python",
   "name": "python",
   "nbconvert_exporter": "python",
   "pygments_lexer": "ipython3",
   "version": "3.10.11"
  },
  "orig_nbformat": 4
 },
 "nbformat": 4,
 "nbformat_minor": 2
}
